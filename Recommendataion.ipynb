{
 "cells": [
  {
   "cell_type": "code",
   "execution_count": 214,
   "metadata": {
    "collapsed": true
   },
   "outputs": [],
   "source": [
    "import pandas as pd\n",
    "import numpy as np\n",
    "import matplotlib.pyplot as plt\n",
    "import pickle"
   ]
  },
  {
   "cell_type": "code",
   "execution_count": 185,
   "metadata": {},
   "outputs": [
    {
     "data": {
      "text/html": [
       "<div>\n",
       "<style>\n",
       "    .dataframe thead tr:only-child th {\n",
       "        text-align: right;\n",
       "    }\n",
       "\n",
       "    .dataframe thead th {\n",
       "        text-align: left;\n",
       "    }\n",
       "\n",
       "    .dataframe tbody tr th {\n",
       "        vertical-align: top;\n",
       "    }\n",
       "</style>\n",
       "<table border=\"1\" class=\"dataframe\">\n",
       "  <thead>\n",
       "    <tr style=\"text-align: right;\">\n",
       "      <th></th>\n",
       "      <th>anime_id</th>\n",
       "      <th>name</th>\n",
       "      <th>genre</th>\n",
       "      <th>type</th>\n",
       "      <th>episodes</th>\n",
       "      <th>rating</th>\n",
       "      <th>members</th>\n",
       "    </tr>\n",
       "  </thead>\n",
       "  <tbody>\n",
       "    <tr>\n",
       "      <th>0</th>\n",
       "      <td>32281</td>\n",
       "      <td>Kimi no Na wa.</td>\n",
       "      <td>Drama, Romance, School, Supernatural</td>\n",
       "      <td>Movie</td>\n",
       "      <td>1</td>\n",
       "      <td>9.37</td>\n",
       "      <td>200630</td>\n",
       "    </tr>\n",
       "    <tr>\n",
       "      <th>1</th>\n",
       "      <td>5114</td>\n",
       "      <td>Fullmetal Alchemist: Brotherhood</td>\n",
       "      <td>Action, Adventure, Drama, Fantasy, Magic, Mili...</td>\n",
       "      <td>TV</td>\n",
       "      <td>64</td>\n",
       "      <td>9.26</td>\n",
       "      <td>793665</td>\n",
       "    </tr>\n",
       "    <tr>\n",
       "      <th>2</th>\n",
       "      <td>28977</td>\n",
       "      <td>Gintama°</td>\n",
       "      <td>Action, Comedy, Historical, Parody, Samurai, S...</td>\n",
       "      <td>TV</td>\n",
       "      <td>51</td>\n",
       "      <td>9.25</td>\n",
       "      <td>114262</td>\n",
       "    </tr>\n",
       "  </tbody>\n",
       "</table>\n",
       "</div>"
      ],
      "text/plain": [
       "   anime_id                              name  \\\n",
       "0     32281                    Kimi no Na wa.   \n",
       "1      5114  Fullmetal Alchemist: Brotherhood   \n",
       "2     28977                          Gintama°   \n",
       "\n",
       "                                               genre   type episodes  rating  \\\n",
       "0               Drama, Romance, School, Supernatural  Movie        1    9.37   \n",
       "1  Action, Adventure, Drama, Fantasy, Magic, Mili...     TV       64    9.26   \n",
       "2  Action, Comedy, Historical, Parody, Samurai, S...     TV       51    9.25   \n",
       "\n",
       "   members  \n",
       "0   200630  \n",
       "1   793665  \n",
       "2   114262  "
      ]
     },
     "execution_count": 185,
     "metadata": {},
     "output_type": "execute_result"
    }
   ],
   "source": [
    "# Import the dataset - anime\n",
    "\n",
    "anime = pd.read_csv(\"anime.csv\")\n",
    "anime.head(3)"
   ]
  },
  {
   "cell_type": "code",
   "execution_count": 20,
   "metadata": {},
   "outputs": [
    {
     "name": "stdout",
     "output_type": "stream",
     "text": [
      "(12294, 7)\n",
      "anime_id      int64\n",
      "name         object\n",
      "genre        object\n",
      "type         object\n",
      "episodes     object\n",
      "rating      float64\n",
      "members       int64\n",
      "dtype: object\n"
     ]
    }
   ],
   "source": [
    "print(anime.shape)\n",
    "print(anime.dtypes)"
   ]
  },
  {
   "cell_type": "code",
   "execution_count": 5,
   "metadata": {},
   "outputs": [
    {
     "data": {
      "text/html": [
       "<div>\n",
       "<style>\n",
       "    .dataframe thead tr:only-child th {\n",
       "        text-align: right;\n",
       "    }\n",
       "\n",
       "    .dataframe thead th {\n",
       "        text-align: left;\n",
       "    }\n",
       "\n",
       "    .dataframe tbody tr th {\n",
       "        vertical-align: top;\n",
       "    }\n",
       "</style>\n",
       "<table border=\"1\" class=\"dataframe\">\n",
       "  <thead>\n",
       "    <tr style=\"text-align: right;\">\n",
       "      <th></th>\n",
       "      <th>user_id</th>\n",
       "      <th>anime_id</th>\n",
       "      <th>rating</th>\n",
       "    </tr>\n",
       "  </thead>\n",
       "  <tbody>\n",
       "    <tr>\n",
       "      <th>0</th>\n",
       "      <td>1</td>\n",
       "      <td>20</td>\n",
       "      <td>-1</td>\n",
       "    </tr>\n",
       "    <tr>\n",
       "      <th>1</th>\n",
       "      <td>1</td>\n",
       "      <td>24</td>\n",
       "      <td>-1</td>\n",
       "    </tr>\n",
       "    <tr>\n",
       "      <th>2</th>\n",
       "      <td>1</td>\n",
       "      <td>79</td>\n",
       "      <td>-1</td>\n",
       "    </tr>\n",
       "  </tbody>\n",
       "</table>\n",
       "</div>"
      ],
      "text/plain": [
       "   user_id  anime_id  rating\n",
       "0        1        20      -1\n",
       "1        1        24      -1\n",
       "2        1        79      -1"
      ]
     },
     "execution_count": 5,
     "metadata": {},
     "output_type": "execute_result"
    }
   ],
   "source": [
    "# Import the dataset - rating\n",
    "\n",
    "rate = pd.read_csv(\"rating.csv\")\n",
    "rate.head(3)"
   ]
  },
  {
   "cell_type": "code",
   "execution_count": 21,
   "metadata": {},
   "outputs": [
    {
     "name": "stdout",
     "output_type": "stream",
     "text": [
      "(7813737, 3)\n",
      "user_id     int64\n",
      "anime_id    int64\n",
      "rating      int64\n",
      "dtype: object\n"
     ]
    }
   ],
   "source": [
    "print(rate.shape)\n",
    "print(rate.dtypes)"
   ]
  },
  {
   "cell_type": "code",
   "execution_count": 186,
   "metadata": {},
   "outputs": [
    {
     "name": "stdout",
     "output_type": "stream",
     "text": [
      "Missing values per column in anime data:\n",
      "anime_id      0\n",
      "name          0\n",
      "genre        62\n",
      "type         25\n",
      "episodes      0\n",
      "rating      230\n",
      "members       0\n",
      "dtype: int64\n"
     ]
    }
   ],
   "source": [
    "# Check missing values in anime data\n",
    "\n",
    "def num_missing(x):\n",
    "    return sum(x.isnull())\n",
    "\n",
    "#Apply per column\n",
    "\n",
    "print (\"Missing values per column in anime data:\")\n",
    "print (anime.apply(num_missing, axis=0))"
   ]
  },
  {
   "cell_type": "code",
   "execution_count": 187,
   "metadata": {},
   "outputs": [
    {
     "name": "stdout",
     "output_type": "stream",
     "text": [
      "Missing values per column in rate data:\n",
      "user_id     0\n",
      "anime_id    0\n",
      "rating      0\n",
      "dtype: int64\n"
     ]
    }
   ],
   "source": [
    "# Check missing values in rate data\n",
    "\n",
    "def num_missing(x):\n",
    "    return sum(x.isnull())\n",
    "\n",
    "#Apply per column\n",
    "\n",
    "print (\"Missing values per column in rate data:\")\n",
    "print (rate.apply(num_missing, axis=0))"
   ]
  },
  {
   "cell_type": "markdown",
   "metadata": {},
   "source": [
    "### Explore and process the data"
   ]
  },
  {
   "cell_type": "code",
   "execution_count": 188,
   "metadata": {},
   "outputs": [
    {
     "data": {
      "text/plain": [
       "array(['Drama, Romance, School, Supernatural',\n",
       "       'Action, Adventure, Drama, Fantasy, Magic, Military, Shounen',\n",
       "       'Action, Comedy, Historical, Parody, Samurai, Sci-Fi, Shounen', ...,\n",
       "       'Hentai, Sports', 'Drama, Romance, School, Yuri',\n",
       "       'Hentai, Slice of Life'], dtype=object)"
      ]
     },
     "execution_count": 188,
     "metadata": {},
     "output_type": "execute_result"
    }
   ],
   "source": [
    "# Check the values in the column genre\n",
    "\n",
    "anime.genre.unique()"
   ]
  },
  {
   "cell_type": "code",
   "execution_count": 189,
   "metadata": {},
   "outputs": [],
   "source": [
    "# Fill the missing values in the column genre with the word 'missing'\n",
    "\n",
    "anime['genre'] = anime['genre'].fillna(\"missing\")"
   ]
  },
  {
   "cell_type": "code",
   "execution_count": 190,
   "metadata": {},
   "outputs": [
    {
     "name": "stdout",
     "output_type": "stream",
     "text": [
      "Number of unique genre is 44\n",
      "['Thriller', 'Ecchi', 'Yaoi', 'Dementia', 'Harem', 'Police', 'Josei', 'Mecha', 'Yuri', 'Music']\n"
     ]
    }
   ],
   "source": [
    "# Return unique genres \n",
    "\n",
    "a = anime.genre.unique().tolist()\n",
    "\n",
    "b=[]\n",
    "for i in a:\n",
    "    b.append(i.split(','))\n",
    "    \n",
    "c = []\n",
    "for list in b:\n",
    "    for number in list:\n",
    "        c.append(number)\n",
    "\n",
    "c = [x.strip(' ') for x in c]\n",
    "c = set(c)\n",
    "\n",
    "unique_genre = []\n",
    "for i in c:\n",
    "    unique_genre.append(i)\n",
    "\n",
    "print('Number of unique genre is '+str(len(unique_genre)))\n",
    "print(unique_genre[0:10])"
   ]
  },
  {
   "cell_type": "code",
   "execution_count": 191,
   "metadata": {},
   "outputs": [],
   "source": [
    "# Create new columns with each of unique genres\n",
    "for i in unique_genre:\n",
    "    anime[i] = 0\n",
    "    \n",
    "# Replace the value of the newly created columns to '1' if the row has the genre of the column in the column 'genre'\n",
    "for i, clmn in enumerate(anime[unique_genre].columns):\n",
    "    anime.loc[anime['genre'].str.contains(clmn), clmn] = 1\n",
    "    \n",
    "# Remove the column 'genre' as it has been dummy-coded\n",
    "anime = anime.drop('genre', axis=1)"
   ]
  },
  {
   "cell_type": "code",
   "execution_count": 192,
   "metadata": {},
   "outputs": [
    {
     "data": {
      "text/plain": [
       "TV         3787\n",
       "OVA        3311\n",
       "Movie      2348\n",
       "Special    1676\n",
       "ONA         659\n",
       "Music       488\n",
       "Name: type, dtype: int64"
      ]
     },
     "execution_count": 192,
     "metadata": {},
     "output_type": "execute_result"
    }
   ],
   "source": [
    "# Check the distribution of number of type\n",
    "\n",
    "anime.type.value_counts().head(10)"
   ]
  },
  {
   "cell_type": "code",
   "execution_count": 206,
   "metadata": {
    "collapsed": true
   },
   "outputs": [],
   "source": [
    "# Fill the missing values in the column type with mode\n",
    "\n",
    "anime['type'] = anime['type'].fillna('TV')"
   ]
  },
  {
   "cell_type": "code",
   "execution_count": 209,
   "metadata": {},
   "outputs": [],
   "source": [
    "# Dummy-code the column type\n",
    "dummy = pd.get_dummies(anime[['type']])\n",
    "\n",
    "# Remove the column 'type' as it has been dummy-coded\n",
    "anime = anime.drop('type', axis=1)\n",
    "\n",
    "# Add dummy-coded data to the original dataset\n",
    "anime = pd.concat([anime, dummy], axis=1)"
   ]
  },
  {
   "cell_type": "code",
   "execution_count": 194,
   "metadata": {},
   "outputs": [
    {
     "data": {
      "text/plain": [
       "1          5677\n",
       "2          1076\n",
       "12          816\n",
       "13          572\n",
       "26          514\n",
       "3           505\n",
       "Unknown     340\n",
       "4           327\n",
       "6           268\n",
       "24          181\n",
       "Name: episodes, dtype: int64"
      ]
     },
     "execution_count": 194,
     "metadata": {},
     "output_type": "execute_result"
    }
   ],
   "source": [
    "# Check the distribution of number of episode\n",
    "\n",
    "anime.episodes.value_counts().head(10)"
   ]
  },
  {
   "cell_type": "code",
   "execution_count": 195,
   "metadata": {},
   "outputs": [
    {
     "name": "stderr",
     "output_type": "stream",
     "text": [
      "/Users/kayounglee/anaconda/lib/python3.6/site-packages/ipykernel_launcher.py:4: SettingWithCopyWarning: \n",
      "A value is trying to be set on a copy of a slice from a DataFrame.\n",
      "Try using .loc[row_indexer,col_indexer] = value instead\n",
      "\n",
      "See the caveats in the documentation: http://pandas.pydata.org/pandas-docs/stable/indexing.html#indexing-view-versus-copy\n",
      "  after removing the cwd from sys.path.\n"
     ]
    },
    {
     "data": {
      "text/plain": [
       "count    11954.000000\n",
       "mean        12.382550\n",
       "std         46.865352\n",
       "min          1.000000\n",
       "25%          1.000000\n",
       "50%          2.000000\n",
       "75%         12.000000\n",
       "max       1818.000000\n",
       "Name: episodes, dtype: float64"
      ]
     },
     "execution_count": 195,
     "metadata": {},
     "output_type": "execute_result"
    }
   ],
   "source": [
    "# Check the distribution of number of episode without the value 'Unknown'\n",
    "\n",
    "a = anime[anime.episodes != 'Unknown']\n",
    "a['episodes'] = a['episodes'].astype('int')\n",
    "\n",
    "a.episodes.describe()"
   ]
  },
  {
   "cell_type": "markdown",
   "metadata": {},
   "source": [
    "- Value distribution is extremely right-skewed with 75% of the values equal or below 12\n",
    "- I decided to convert to the categorical variable with the cutoff of 12\n",
    "- Since the episode of 1 indicates movie, it is worth keeping it as indepdent level\n",
    "- I decided to replace 'Unknown' with the mode level"
   ]
  },
  {
   "cell_type": "code",
   "execution_count": 196,
   "metadata": {},
   "outputs": [],
   "source": [
    "# Repleace 'Unknown' with the number 2 and change the data type of the colum\n",
    "anime.loc[anime.episodes == 'Unknown', 'episodes'] = 2\n",
    "anime['episodes'] = anime['episodes'].astype('int')\n",
    "\n",
    "# Create a new column 'episode_1' and fill with '1' with the value in the column episodes is 1\n",
    "anime['episode_1'] = 0\n",
    "anime.loc[anime.episodes == 1, 'episode_1'] =1\n",
    "\n",
    "# Create a new column 'episode_2to12' and fill with '1' with the value in the column episodes is between 2 and 12\n",
    "anime['episode_2to12'] = 0\n",
    "anime.loc[(anime.episodes < 13)&(anime.episodes > 1), 'episode_2to12'] =1\n",
    "\n",
    "# Create a new column 'episode_13+' and fill with '1' with the value in the column episodes is larger than 12\n",
    "anime['episode_13+'] = 0\n",
    "anime.loc[anime.episodes > 12, 'episode_13+'] =1\n",
    "\n",
    "# Remove the column episodes as it has been transformed to three categorical variables\n",
    "anime = anime.drop('episodes', axis=1)"
   ]
  },
  {
   "cell_type": "code",
   "execution_count": 17,
   "metadata": {},
   "outputs": [
    {
     "data": {
      "image/png": "[encoded data removed]",
      "text/plain": [
       "<matplotlib.figure.Figure at 0x11504c588>"
      ]
     },
     "metadata": {},
     "output_type": "display_data"
    }
   ],
   "source": [
    "# Check the distribution of rating in the anime dataset\n",
    "\n",
    "fig = plt.figure(1, figsize=(2, 4))\n",
    "anime.boxplot(column=\"rating\")\n",
    "plt.show()"
   ]
  },
  {
   "cell_type": "code",
   "execution_count": 24,
   "metadata": {},
   "outputs": [
    {
     "data": {
      "image/png": "[encoded data removed]",
      "text/plain": [
       "<matplotlib.figure.Figure at 0x116622a20>"
      ]
     },
     "metadata": {},
     "output_type": "display_data"
    }
   ],
   "source": [
    "# Check the distribution of members\n",
    "\n",
    "fig = plt.figure(1, figsize=(2, 4))\n",
    "anime.boxplot(column=\"members\")\n",
    "plt.show()"
   ]
  },
  {
   "cell_type": "code",
   "execution_count": 25,
   "metadata": {},
   "outputs": [
    {
     "data": {
      "image/png": "[encoded data removed]",
      "text/plain": [
       "<matplotlib.figure.Figure at 0x116726748>"
      ]
     },
     "metadata": {},
     "output_type": "display_data"
    }
   ],
   "source": [
    "# Check the distribution of rating in the rate dataset\n",
    "\n",
    "fig = plt.figure(1, figsize=(2, 4))\n",
    "rate.boxplot(column=\"rating\")\n",
    "plt.show()"
   ]
  },
  {
   "cell_type": "markdown",
   "metadata": {},
   "source": [
    "- '-1' if the user watched it but didn't assign a rating according to the data dictionary"
   ]
  },
  {
   "cell_type": "code",
   "execution_count": 215,
   "metadata": {
    "collapsed": true
   },
   "outputs": [],
   "source": [
    "# Save the dataframe into a pickle file\n",
    "\n",
    "pickle.dump( anime, open( \"anime.pickle\", \"wb\" ) )\n",
    "pickle.dump( rate, open( \"rate.pickle\", \"wb\" ) )"
   ]
  },
  {
   "cell_type": "markdown",
   "metadata": {},
   "source": [
    "## Collaborative filtering"
   ]
  },
  {
   "cell_type": "code",
   "execution_count": null,
   "metadata": {
    "collapsed": true
   },
   "outputs": [],
   "source": [
    "# Load the dataframe back from the pickle file.\n",
    "\n",
    "anime = pickle.load( open( \"anime.pickle\", \"rb\" ) )\n",
    "rate = pickle.load( open( \"rate.pickle\", \"rb\" ) )"
   ]
  },
  {
   "cell_type": "code",
   "execution_count": null,
   "metadata": {
    "collapsed": true
   },
   "outputs": [],
   "source": []
  }
 ],
 "metadata": {
  "kernelspec": {
   "display_name": "Python 3",
   "language": "python",
   "name": "python3"
  },
  "language_info": {
   "codemirror_mode": {
    "name": "ipython",
    "version": 3
   },
   "file_extension": ".py",
   "mimetype": "text/x-python",
   "name": "python",
   "nbconvert_exporter": "python",
   "pygments_lexer": "ipython3",
   "version": "3.6.3"
  }
 },
 "nbformat": 4,
 "nbformat_minor": 2
}
